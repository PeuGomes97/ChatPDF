{
 "cells": [
  {
   "cell_type": "code",
   "execution_count": 1,
   "metadata": {},
   "outputs": [],
   "source": [
    "from pathlib import Path\n",
    "\n",
    "from langchain.chains.conversational_retrieval.base import ConversationalRetrievalChain\n",
    "from langchain_community.document_loaders.pdf import PyPDFLoader\n",
    "from langchain_community.vectorstores.faiss import FAISS\n",
    "from langchain.memory import ConversationBufferMemory\n",
    "from langchain_text_splitters import RecursiveCharacterTextSplitter\n",
    "from langchain_openai.embeddings import OpenAIEmbeddings\n",
    "from langchain_openai.chat_models import ChatOpenAI\n",
    "\n",
    "\n",
    "FILE_FOLDER = Path('/home/peugomes/projetoWSLnote/ChatPDF/teste.ipynb').parent / 'files'\n",
    "MODEL_NAME = 'gpt-3.5-turbo-0125'\n",
    "\n",
    "\n",
    "def import_documents():\n",
    "    documents = []\n",
    "    for file in FILE_FOLDER.glob('*.pdf'):\n",
    "        loader = PyPDFLoader(str(file))\n",
    "        file_documents = loader.load()\n",
    "        documents.extend(file_documents)\n",
    "        return documents\n",
    "    \n",
    "    \n",
    "def split_documents(documents):\n",
    "    recur_splitter = RecursiveCharacterTextSplitter(\n",
    "        chunk_size=2500,\n",
    "        chunk_overlap=250,\n",
    "        separators=[\"\\n\\n\", \"\\n\", \" \", \"\"]\n",
    "    )\n",
    "    \n",
    "    documents = recur_splitter.split_documents(documents)\n",
    "    \n",
    "    for i, doc in enumerate(documents):\n",
    "        doc.metadata['source'] = doc.metadata['source'].split('/')[-1]\n",
    "        doc.metadata['doc_id'] = i\n",
    "    return documents\n",
    "\n",
    "\n",
    "def create_vector_store(documents):\n",
    "    embedding_model = OpenAIEmbeddings()\n",
    "    vector_store = FAISS.from_documents(\n",
    "        documents=documents,\n",
    "        embedding=embedding_model\n",
    "    )\n",
    "    return vector_store\n",
    "\n",
    "\n",
    "\n",
    "\n",
    "def create_chat_chain(vector_store):\n",
    "    chat = ChatOpenAI(model=MODEL_NAME)\n",
    "    memory = ConversationBufferMemory(return_messages=True)\n",
    "    \n",
    "    retriever = vector_store.as_retriever()\n",
    "    chat_chain = ConversationalRetrievalChain.from_llm(\n",
    "        llm=chat,\n",
    "        memory=memory,\n",
    "        retriever=retriever,\n",
    "        return_source_documents=True,\n",
    "        verbose=True)\n",
    "    \n",
    "    return chat_chain\n"
   ]
  },
  {
   "cell_type": "code",
   "execution_count": 8,
   "metadata": {},
   "outputs": [
    {
     "ename": "ValidationError",
     "evalue": "1 validation error for OpenAIEmbeddings\n__root__\n  Did not find openai_api_key, please add an environment variable `OPENAI_API_KEY` which contains it, or pass `openai_api_key` as a named parameter. (type=value_error)",
     "output_type": "error",
     "traceback": [
      "\u001b[0;31m---------------------------------------------------------------------------\u001b[0m",
      "\u001b[0;31mValidationError\u001b[0m                           Traceback (most recent call last)",
      "Cell \u001b[0;32mIn[8], line 3\u001b[0m\n\u001b[1;32m      1\u001b[0m documents \u001b[38;5;241m=\u001b[39m import_documents()\n\u001b[1;32m      2\u001b[0m documents \u001b[38;5;241m=\u001b[39m split_documents(documents)\n\u001b[0;32m----> 3\u001b[0m vector_store \u001b[38;5;241m=\u001b[39m \u001b[43mcreate_vector_store\u001b[49m\u001b[43m(\u001b[49m\u001b[43mdocuments\u001b[49m\u001b[43m)\u001b[49m\n\u001b[1;32m      4\u001b[0m chain \u001b[38;5;241m=\u001b[39m create_chat_chain(vector_store)\n",
      "Cell \u001b[0;32mIn[7], line 41\u001b[0m, in \u001b[0;36mcreate_vector_store\u001b[0;34m(documents)\u001b[0m\n\u001b[1;32m     40\u001b[0m \u001b[38;5;28;01mdef\u001b[39;00m \u001b[38;5;21mcreate_vector_store\u001b[39m(documents):\n\u001b[0;32m---> 41\u001b[0m     embedding_model \u001b[38;5;241m=\u001b[39m \u001b[43mOpenAIEmbeddings\u001b[49m\u001b[43m(\u001b[49m\u001b[43m)\u001b[49m\n\u001b[1;32m     42\u001b[0m     vector_store \u001b[38;5;241m=\u001b[39m FAISS\u001b[38;5;241m.\u001b[39mfrom_documents(\n\u001b[1;32m     43\u001b[0m         documents\u001b[38;5;241m=\u001b[39mdocuments,\n\u001b[1;32m     44\u001b[0m         embedding\u001b[38;5;241m=\u001b[39membedding_model\n\u001b[1;32m     45\u001b[0m     )\n\u001b[1;32m     46\u001b[0m     \u001b[38;5;28;01mreturn\u001b[39;00m vector_store\n",
      "File \u001b[0;32m~/projetoWSLnote/ChatPDF/venv/lib/python3.10/site-packages/pydantic/v1/main.py:341\u001b[0m, in \u001b[0;36mBaseModel.__init__\u001b[0;34m(__pydantic_self__, **data)\u001b[0m\n\u001b[1;32m    339\u001b[0m values, fields_set, validation_error \u001b[38;5;241m=\u001b[39m validate_model(__pydantic_self__\u001b[38;5;241m.\u001b[39m\u001b[38;5;18m__class__\u001b[39m, data)\n\u001b[1;32m    340\u001b[0m \u001b[38;5;28;01mif\u001b[39;00m validation_error:\n\u001b[0;32m--> 341\u001b[0m     \u001b[38;5;28;01mraise\u001b[39;00m validation_error\n\u001b[1;32m    342\u001b[0m \u001b[38;5;28;01mtry\u001b[39;00m:\n\u001b[1;32m    343\u001b[0m     object_setattr(__pydantic_self__, \u001b[38;5;124m'\u001b[39m\u001b[38;5;124m__dict__\u001b[39m\u001b[38;5;124m'\u001b[39m, values)\n",
      "\u001b[0;31mValidationError\u001b[0m: 1 validation error for OpenAIEmbeddings\n__root__\n  Did not find openai_api_key, please add an environment variable `OPENAI_API_KEY` which contains it, or pass `openai_api_key` as a named parameter. (type=value_error)"
     ]
    }
   ],
   "source": [
    "documents = import_documents()\n",
    "documents = split_documents(documents)\n",
    "vector_store = create_vector_store(documents)\n",
    "chain = create_chat_chain(vector_store)"
   ]
  }
 ],
 "metadata": {
  "kernelspec": {
   "display_name": "venv",
   "language": "python",
   "name": "python3"
  },
  "language_info": {
   "codemirror_mode": {
    "name": "ipython",
    "version": 3
   },
   "file_extension": ".py",
   "mimetype": "text/x-python",
   "name": "python",
   "nbconvert_exporter": "python",
   "pygments_lexer": "ipython3",
   "version": "3.10.12"
  }
 },
 "nbformat": 4,
 "nbformat_minor": 2
}
